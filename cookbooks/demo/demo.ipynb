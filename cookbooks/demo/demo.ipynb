{
 "cells": [
  {
   "cell_type": "markdown",
   "id": "fb1ec745-507f-4c67-802a-f0b33fc8b1a9",
   "metadata": {},
   "source": [
    "# Mythic AI Engine"
   ]
  },
  {
   "cell_type": "code",
   "execution_count": 2,
   "id": "3f12106d-5a69-4067-a45c-4c95370117de",
   "metadata": {},
   "outputs": [],
   "source": [
    "import wave\n",
    "from piper import PiperVoice"
   ]
  }
 ],
 "metadata": {
  "kernelspec": {
   "display_name": "Python 3 (ipykernel)",
   "language": "python",
   "name": "python3"
  },
  "language_info": {
   "codemirror_mode": {
    "name": "ipython",
    "version": 3
   },
   "file_extension": ".py",
   "mimetype": "text/x-python",
   "name": "python",
   "nbconvert_exporter": "python",
   "pygments_lexer": "ipython3",
   "version": "3.12.3"
  }
 },
 "nbformat": 4,
 "nbformat_minor": 5
}
